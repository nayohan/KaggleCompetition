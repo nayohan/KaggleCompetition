{
 "cells": [
  {
   "cell_type": "markdown",
   "metadata": {},
   "source": [
    "# Digit Recognizer"
   ]
  },
  {
   "cell_type": "code",
   "execution_count": 64,
   "metadata": {},
   "outputs": [],
   "source": [
    "import numpy as np\n",
    "import pandas as pd\n",
    "import matplotlib.pyplot as plt"
   ]
  },
  {
   "cell_type": "code",
   "execution_count": 65,
   "metadata": {},
   "outputs": [],
   "source": [
    "import torch\n",
    "import torch.nn as nn\n",
    "from torch.autograd import Variable\n",
    "from torch.utils.data import DataLoader\n",
    "from sklearn.model_selection import train_test_split"
   ]
  },
  {
   "cell_type": "code",
   "execution_count": 66,
   "metadata": {},
   "outputs": [],
   "source": [
    "df_train = pd.read_csv('train.csv', dtype=np.float32)\n",
    "df_test = pd.read_csv('test.csv', dtype=np.float32)\n",
    "df_sub = pd.read_csv('sample_submission.csv')"
   ]
  },
  {
   "cell_type": "code",
   "execution_count": 67,
   "metadata": {},
   "outputs": [
    {
     "name": "stdout",
     "output_type": "stream",
     "text": [
      "(42000, 785) (28000, 784)\n"
     ]
    }
   ],
   "source": [
    "print(df_train.shape, df_test.shape)"
   ]
  },
  {
   "cell_type": "markdown",
   "metadata": {},
   "source": [
    "### pd -> np"
   ]
  },
  {
   "cell_type": "code",
   "execution_count": 68,
   "metadata": {},
   "outputs": [],
   "source": [
    "features_numpy = df_train.values[:,1:]/255\n",
    "targets_numpy = df_train.values[:,0]"
   ]
  },
  {
   "cell_type": "code",
   "execution_count": 69,
   "metadata": {
    "scrolled": true
   },
   "outputs": [
    {
     "name": "stdout",
     "output_type": "stream",
     "text": [
      "(42000, 784) (42000,)\n"
     ]
    }
   ],
   "source": [
    "print(features_numpy.shape, targets_numpy.shape)"
   ]
  },
  {
   "cell_type": "markdown",
   "metadata": {},
   "source": [
    "### split"
   ]
  },
  {
   "cell_type": "code",
   "execution_count": 70,
   "metadata": {},
   "outputs": [],
   "source": [
    "features_train, features_test, targets_train, targets_test = train_test_split(features_numpy, \n",
    "                                                                            targets_numpy,\n",
    "                                                                            test_size = 0.2,\n",
    "                                                                            random_state = 42\n",
    "                                                                           )"
   ]
  },
  {
   "cell_type": "code",
   "execution_count": 71,
   "metadata": {
    "scrolled": false
   },
   "outputs": [
    {
     "name": "stdout",
     "output_type": "stream",
     "text": [
      "(33600, 784) (8400, 784) (33600,) (8400,)\n"
     ]
    }
   ],
   "source": [
    "print(features_train.shape, features_test.shape, targets_train.shape, targets_test.shape)"
   ]
  },
  {
   "cell_type": "markdown",
   "metadata": {},
   "source": [
    "### np -> tensor"
   ]
  },
  {
   "cell_type": "code",
   "execution_count": 72,
   "metadata": {},
   "outputs": [],
   "source": [
    "featuresTrain = torch.from_numpy(features_train)\n",
    "targetsTrain = torch.from_numpy(targets_train).type(torch.LongTensor)\n",
    "\n",
    "featuresTest = torch.from_numpy(features_test)\n",
    "targetsTest = torch.from_numpy(targets_test).type(torch.LongTensor)"
   ]
  },
  {
   "cell_type": "code",
   "execution_count": 73,
   "metadata": {},
   "outputs": [
    {
     "name": "stdout",
     "output_type": "stream",
     "text": [
      "torch.Size([33600, 784])\n"
     ]
    }
   ],
   "source": [
    "print(featuresTrain.shape)"
   ]
  },
  {
   "cell_type": "markdown",
   "metadata": {},
   "source": [
    "### tensor -> DataLoader"
   ]
  },
  {
   "cell_type": "code",
   "execution_count": 74,
   "metadata": {},
   "outputs": [],
   "source": [
    "batch_size = 100\n",
    "n_iters = 200\n",
    "num_epochs = n_iters / (len(features_train) / batch_size)\n",
    "num_epochs = int(num_epochs)"
   ]
  },
  {
   "cell_type": "code",
   "execution_count": 75,
   "metadata": {},
   "outputs": [],
   "source": [
    "train = torch.utils.data.TensorDataset(featuresTrain, targetsTrain)\n",
    "test = torch.utils.data.TensorDataset(featuresTest, targetsTest)\n",
    "\n",
    "train_loader = DataLoader(train, batch_size=batch_size, shuffle=False)\n",
    "test_loader = DataLoader(test, batch_size=batch_size, shuffle=False)"
   ]
  },
  {
   "cell_type": "code",
   "execution_count": 76,
   "metadata": {},
   "outputs": [
    {
     "data": {
      "image/png": "[encoded data removed]",
      "text/plain": [
       "<Figure size 432x288 with 1 Axes>"
      ]
     },
     "metadata": {
      "needs_background": "light"
     },
     "output_type": "display_data"
    }
   ],
   "source": [
    "plt.imshow(features_numpy[10].reshape(28,28))\n",
    "plt.axis(\"off\")\n",
    "plt.title(str(targets_numpy[10]))\n",
    "plt.show()"
   ]
  },
  {
   "cell_type": "code",
   "execution_count": 77,
   "metadata": {},
   "outputs": [],
   "source": [
    "class LogisticRegressionModel(nn.Module):\n",
    "    def __init__(self, input_dim, output_dim):\n",
    "        super(LogisticRegressionModel, self).__init__()\n",
    "        self.fc1 = nn.Linear(input_dim, 512)\n",
    "        self.fc2 = nn.Linear(512, 256)\n",
    "        self.fc3 = nn.Linear(256, output_dim)\n",
    "        self.dropout = nn.Dropout(p=0.2)\n",
    "    \n",
    "    def forward(self, x):\n",
    "        x1 = self.fc1(x)\n",
    "        x1 = self.dropout(x1)\n",
    "        x2 = self.fc2(x1)\n",
    "        x2 = self.dropout(x2)\n",
    "        out = self.fc3(x2)\n",
    "        \n",
    "        return out"
   ]
  },
  {
   "cell_type": "code",
   "execution_count": 78,
   "metadata": {},
   "outputs": [],
   "source": [
    "input_dim = 28 * 28\n",
    "output_dim = 10\n",
    "\n",
    "model = LogisticRegressionModel(input_dim, output_dim)\n",
    "\n",
    "error = nn.CrossEntropyLoss()\n",
    "\n",
    "learning_rate = 0.001\n",
    "optimizer = torch.optim.SGD(model.parameters(), lr=learning_rate)"
   ]
  },
  {
   "cell_type": "code",
   "execution_count": 79,
   "metadata": {},
   "outputs": [
    {
     "name": "stdout",
     "output_type": "stream",
     "text": [
      "Iteration: 0 Loss: 2.2226383686065674\n",
      "Iteration: 10 Loss: 1.0632238388061523\n",
      "Iteration: 20 Loss: 0.5723592638969421\n",
      "Iteration: 30 Loss: 0.4263169765472412\n",
      "Iteration: 40 Loss: 0.331064909696579\n",
      "Iteration: 50 Loss: 0.2672329545021057\n",
      "Iteration: 60 Loss: 0.2578798532485962\n",
      "Iteration: 70 Loss: 0.26590025424957275\n",
      "Iteration: 80 Loss: 0.22702373564243317\n",
      "Iteration: 90 Loss: 0.22075515985488892\n",
      "Iteration: 100 Loss: 0.2382630705833435\n",
      "Iteration: 110 Loss: 0.19771887362003326\n",
      "Iteration: 120 Loss: 0.1690441519021988\n",
      "Iteration: 130 Loss: 0.21965822577476501\n",
      "Iteration: 140 Loss: 0.22354848682880402\n",
      "Iteration: 150 Loss: 0.18878750503063202\n",
      "Iteration: 160 Loss: 0.17116527259349823\n",
      "Iteration: 170 Loss: 0.2194255292415619\n",
      "Iteration: 180 Loss: 0.18237408995628357\n",
      "Iteration: 190 Loss: 0.19237874448299408\n"
     ]
    }
   ],
   "source": [
    "count = 0\n",
    "loss_list = []\n",
    "iteration_list = []\n",
    "# 데이터 불러오기\n",
    "for epoch in range(n_iters):\n",
    "    for i, (images, labels) in enumerate(train_loader):        \n",
    "        # 변수정의\n",
    "        train = Variable(images.view(-1, 28*28))\n",
    "        labels = Variable(labels)\n",
    "        \n",
    "        # 기울기 초기화\n",
    "        optimizer.zero_grad()\n",
    "        # 순전파\n",
    "        outputs = model(train)\n",
    "        # 에러함수 계산\n",
    "        loss = error(outputs, labels)\n",
    "        # 기울기 계산\n",
    "        loss.backward()\n",
    "        # 파라미터  업데이트\n",
    "        optimizer.step()\n",
    "        \n",
    "#         count += 1\n",
    "#         #예측\n",
    "#         if count % 50 == 0:\n",
    "#             correct = 0\n",
    "#             total = 0\n",
    "\n",
    "#             #정확도계산\n",
    "#             for images,labels in test_loader:\n",
    "#                 test = Variable(images.view(-1, 28*28))\n",
    "                \n",
    "#                 #정답추출\n",
    "#                 outputs = model(test)\n",
    "#                 predicted = torch.max(outputs.data, 1)[1]\n",
    "            \n",
    "#                 #레이블 길이\n",
    "#                 total += len(labels)\n",
    "                \n",
    "#                 #정답예측 \n",
    "#                 correct += (predicted == labels).sum()\n",
    "        \n",
    "#             #정확도\n",
    "#             accuracy = 100 * correct / float(total)\n",
    "#         # loss, iteration 추가\n",
    "#         loss_list.append(loss.data)\n",
    "#         iteration_list.append(count)\n",
    "        \n",
    "#         if epoch % 10 == 0:\n",
    "#             print('Iteration: {} Loss: {} Accuracy: {}'.format((epoch), loss.data, accuracy))\n",
    "    if epoch % 10 == 0:\n",
    "        print('Iteration: {} Loss: {}'.format((epoch), loss.data))"
   ]
  },
  {
   "cell_type": "code",
   "execution_count": 80,
   "metadata": {},
   "outputs": [],
   "source": [
    "submit_numpy = df_test.values/255\n",
    "test_var = Variable(torch.FloatTensor(submit_numpy), requires_grad=False)\n",
    "\n",
    "with torch.no_grad():\n",
    "    test_result = model(test_var)\n",
    "\n",
    "values, labels = torch.max(test_result, 1)\n",
    "result = labels.data.numpy()"
   ]
  },
  {
   "cell_type": "code",
   "execution_count": 81,
   "metadata": {},
   "outputs": [
    {
     "name": "stdout",
     "output_type": "stream",
     "text": [
      "torch.Size([28000])\n",
      "tensor([2, 0, 9,  ..., 3, 9, 2])\n"
     ]
    }
   ],
   "source": [
    "print(values.shape)\n",
    "print(labels)"
   ]
  },
  {
   "cell_type": "code",
   "execution_count": 82,
   "metadata": {},
   "outputs": [
    {
     "name": "stdout",
     "output_type": "stream",
     "text": [
      "   ImageId  Label\n",
      "0        1      2\n",
      "1        2      0\n",
      "2        3      9\n",
      "3        4      9\n",
      "4        5      3\n"
     ]
    }
   ],
   "source": [
    "submission = pd.DataFrame({'ImageId':df_sub['ImageId'], 'Label':result})\n",
    "print(submission.head())\n",
    "submission.to_csv('submission.csv', index=False)"
   ]
  },
  {
   "cell_type": "code",
   "execution_count": null,
   "metadata": {},
   "outputs": [],
   "source": []
  }
 ],
 "metadata": {
  "kernelspec": {
   "display_name": "Python 3",
   "language": "python",
   "name": "python3"
  },
  "language_info": {
   "codemirror_mode": {
    "name": "ipython",
    "version": 3
   },
   "file_extension": ".py",
   "mimetype": "text/x-python",
   "name": "python",
   "nbconvert_exporter": "python",
   "pygments_lexer": "ipython3",
   "version": "3.7.3"
  }
 },
 "nbformat": 4,
 "nbformat_minor": 4
}
