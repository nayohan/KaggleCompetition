{
 "cells": [
  {
   "cell_type": "markdown",
   "metadata": {},
   "source": [
    "## A gentle start to Pytorch\n",
    "\n",
    "![](https://miro.medium.com/max/2400/1*aqNgmfyBIStLrf9k7d9cng.jpeg)"
   ]
  },
  {
   "cell_type": "markdown",
   "metadata": {},
   "source": [
    "\n",
    "This notebook aims to give a nice and easy introduction with easy and few steps. It doesn't aim high score! I tried to keep it simple without adding new features. The only and only aim is to a give a very gentle intro to Pytorch world\n",
    "\n",
    "\n",
    "Before that let's give some introduction to Pytorch:\n",
    "\n",
    "PyTorch is an open source machine learning library based on the Torch library, used for applications such as computer vision and natural language processing. It is primarily developed by Facebook's AI Research lab. It is free and open-source software released under the Modified BSD license. Below is taken from the Pytorch Documentation (you can reach it from https://pytorch.org/tutorials/beginner/blitz/tensor_tutorial.html\n",
    "\n",
    "You can check more advanced tutorials: \n",
    "\n",
    "- https://pytorch.org/tutorials/\n",
    "\n",
    "Or its github page:\n",
    "\n",
    "- https://github.com/pytorch/pytorch\n",
    "\n",
    "WHAT IS PYTORCH?\n",
    "\n",
    "It’s a Python-based scientific computing package targeted at two sets of audiences:\n",
    "\n",
    "- A replacement for NumPy to use the power of GPUs\n",
    "- A deep learning research platform that provides maximum flexibility and speed"
   ]
  },
  {
   "cell_type": "markdown",
   "metadata": {},
   "source": [
    "![](https://www.sciencealert.com/images/articles/processed/titanic-1_600.jpg)\n",
    "\n",
    "For this exercise we will be using the famous **Titanic** Dataset:\n",
    "\n",
    "This is a very famous dataset but if you need an introduction on this, please check this useful links:\n",
    "\n",
    "https://web.stanford.edu/class/archive/cs/cs109/cs109.1166/problem12.html\n",
    "\n",
    "\n",
    "\n"
   ]
  },
  {
   "cell_type": "markdown",
   "metadata": {},
   "source": [
    "Several Cells ara taken from my other notebooks, where I don't use pythorch please check it here:\n",
    "\n",
    "1. https://www.kaggle.com/frtgnn/titanic-survival-classifier\n",
    "\n",
    "2. https://www.kaggle.com/frtgnn/beginner-s-stop-pipeline-introduction"
   ]
  },
  {
   "cell_type": "markdown",
   "metadata": {},
   "source": [
    "# DataSet & Library Loading"
   ]
  },
  {
   "cell_type": "code",
   "execution_count": 1,
   "metadata": {},
   "outputs": [],
   "source": [
    "import numpy as np\n",
    "import pandas as pd\n",
    "import seaborn as sns\n",
    "import matplotlib.pyplot as plt\n",
    "from collections import Counter\n",
    "from sklearn.utils import shuffle\n",
    "from sklearn.preprocessing import StandardScaler\n",
    "from sklearn.linear_model import LogisticRegression\n",
    "from sklearn.model_selection import train_test_split\n",
    "\n",
    "df_train = pd.read_csv('train.csv')\n",
    "df_test  = pd.read_csv('test.csv')\n",
    "df_sub   = pd.read_csv('gender_submission.csv')"
   ]
  },
  {
   "cell_type": "markdown",
   "metadata": {},
   "source": [
    "# Making the dataset ready for the model\n",
    "\n",
    "- let's drop the unnecessary columns\n",
    "- encode the categorical (no details)\n",
    "- impute the necessary columns (again no details)\n",
    "- scale both the train and test data for linear models\n",
    "- split the data for the model"
   ]
  },
  {
   "cell_type": "code",
   "execution_count": 2,
   "metadata": {},
   "outputs": [],
   "source": [
    "df_train.drop(['Name','Ticket','Cabin'],axis=1,inplace=True)\n",
    "df_test.drop( ['Name','Ticket','Cabin'],axis=1,inplace=True)\n",
    "\n",
    "sex = pd.get_dummies(df_train['Sex'],drop_first=True)\n",
    "embark = pd.get_dummies(df_train['Embarked'],drop_first=True)\n",
    "df_train = pd.concat([df_train,sex,embark],axis=1)\n",
    "\n",
    "df_train.drop(['Sex','Embarked'],axis=1,inplace=True)\n",
    "\n",
    "sex = pd.get_dummies(df_test['Sex'],drop_first=True)\n",
    "embark = pd.get_dummies(df_test['Embarked'],drop_first=True)\n",
    "df_test = pd.concat([df_test,sex,embark],axis=1)\n",
    "\n",
    "df_test.drop(['Sex','Embarked'],axis=1,inplace=True)\n",
    "\n",
    "df_train.fillna(df_train.mean(),inplace=True)\n",
    "df_test.fillna(df_test.mean(),inplace=True)\n",
    "\n",
    "Scaler1 = StandardScaler()\n",
    "Scaler2 = StandardScaler()\n",
    "\n",
    "train_columns = df_train.columns\n",
    "test_columns  = df_test.columns\n",
    "\n",
    "df_train = pd.DataFrame(Scaler1.fit_transform(df_train))\n",
    "df_test  = pd.DataFrame(Scaler2.fit_transform(df_test))\n",
    "\n",
    "df_train.columns = train_columns\n",
    "df_test.columns  = test_columns\n",
    "\n",
    "features = df_train.iloc[:,2:].columns.tolist()\n",
    "target   = df_train.loc[:, 'Survived'].name\n",
    "\n",
    "X_train = df_train.iloc[:,2:].values\n",
    "y_train = df_train.loc[:, 'Survived'].values"
   ]
  },
  {
   "cell_type": "code",
   "execution_count": 10,
   "metadata": {},
   "outputs": [
    {
     "data": {
      "text/html": [
       "<div>\n",
       "<style scoped>\n",
       "    .dataframe tbody tr th:only-of-type {\n",
       "        vertical-align: middle;\n",
       "    }\n",
       "\n",
       "    .dataframe tbody tr th {\n",
       "        vertical-align: top;\n",
       "    }\n",
       "\n",
       "    .dataframe thead th {\n",
       "        text-align: right;\n",
       "    }\n",
       "</style>\n",
       "<table border=\"1\" class=\"dataframe\">\n",
       "  <thead>\n",
       "    <tr style=\"text-align: right;\">\n",
       "      <th></th>\n",
       "      <th>PassengerId</th>\n",
       "      <th>Survived</th>\n",
       "      <th>Pclass</th>\n",
       "      <th>Age</th>\n",
       "      <th>SibSp</th>\n",
       "      <th>Parch</th>\n",
       "      <th>Fare</th>\n",
       "      <th>male</th>\n",
       "      <th>Q</th>\n",
       "      <th>S</th>\n",
       "    </tr>\n",
       "  </thead>\n",
       "  <tbody>\n",
       "    <tr>\n",
       "      <th>0</th>\n",
       "      <td>-1.730108</td>\n",
       "      <td>-0.789272</td>\n",
       "      <td>0.827377</td>\n",
       "      <td>-0.592481</td>\n",
       "      <td>0.432793</td>\n",
       "      <td>-0.473674</td>\n",
       "      <td>-0.502445</td>\n",
       "      <td>0.737695</td>\n",
       "      <td>-0.307562</td>\n",
       "      <td>0.619306</td>\n",
       "    </tr>\n",
       "    <tr>\n",
       "      <th>1</th>\n",
       "      <td>-1.726220</td>\n",
       "      <td>1.266990</td>\n",
       "      <td>-1.566107</td>\n",
       "      <td>0.638789</td>\n",
       "      <td>0.432793</td>\n",
       "      <td>-0.473674</td>\n",
       "      <td>0.786845</td>\n",
       "      <td>-1.355574</td>\n",
       "      <td>-0.307562</td>\n",
       "      <td>-1.614710</td>\n",
       "    </tr>\n",
       "    <tr>\n",
       "      <th>2</th>\n",
       "      <td>-1.722332</td>\n",
       "      <td>1.266990</td>\n",
       "      <td>0.827377</td>\n",
       "      <td>-0.284663</td>\n",
       "      <td>-0.474545</td>\n",
       "      <td>-0.473674</td>\n",
       "      <td>-0.488854</td>\n",
       "      <td>-1.355574</td>\n",
       "      <td>-0.307562</td>\n",
       "      <td>0.619306</td>\n",
       "    </tr>\n",
       "    <tr>\n",
       "      <th>3</th>\n",
       "      <td>-1.718444</td>\n",
       "      <td>1.266990</td>\n",
       "      <td>-1.566107</td>\n",
       "      <td>0.407926</td>\n",
       "      <td>0.432793</td>\n",
       "      <td>-0.473674</td>\n",
       "      <td>0.420730</td>\n",
       "      <td>-1.355574</td>\n",
       "      <td>-0.307562</td>\n",
       "      <td>0.619306</td>\n",
       "    </tr>\n",
       "    <tr>\n",
       "      <th>4</th>\n",
       "      <td>-1.714556</td>\n",
       "      <td>-0.789272</td>\n",
       "      <td>0.827377</td>\n",
       "      <td>0.407926</td>\n",
       "      <td>-0.474545</td>\n",
       "      <td>-0.473674</td>\n",
       "      <td>-0.486337</td>\n",
       "      <td>0.737695</td>\n",
       "      <td>-0.307562</td>\n",
       "      <td>0.619306</td>\n",
       "    </tr>\n",
       "  </tbody>\n",
       "</table>\n",
       "</div>"
      ],
      "text/plain": [
       "   PassengerId  Survived    Pclass       Age     SibSp     Parch      Fare  \\\n",
       "0    -1.730108 -0.789272  0.827377 -0.592481  0.432793 -0.473674 -0.502445   \n",
       "1    -1.726220  1.266990 -1.566107  0.638789  0.432793 -0.473674  0.786845   \n",
       "2    -1.722332  1.266990  0.827377 -0.284663 -0.474545 -0.473674 -0.488854   \n",
       "3    -1.718444  1.266990 -1.566107  0.407926  0.432793 -0.473674  0.420730   \n",
       "4    -1.714556 -0.789272  0.827377  0.407926 -0.474545 -0.473674 -0.486337   \n",
       "\n",
       "       male         Q         S  \n",
       "0  0.737695 -0.307562  0.619306  \n",
       "1 -1.355574 -0.307562 -1.614710  \n",
       "2 -1.355574 -0.307562  0.619306  \n",
       "3 -1.355574 -0.307562  0.619306  \n",
       "4  0.737695 -0.307562  0.619306  "
      ]
     },
     "execution_count": 10,
     "metadata": {},
     "output_type": "execute_result"
    }
   ],
   "source": [
    "df_train.head()"
   ]
  },
  {
   "cell_type": "markdown",
   "metadata": {},
   "source": [
    "# Pytorch"
   ]
  },
  {
   "cell_type": "code",
   "execution_count": 3,
   "metadata": {},
   "outputs": [],
   "source": [
    "import torch\n",
    "import torch.nn as nn\n",
    "from torch.nn import functional as F\n",
    "from torch.autograd import Variable"
   ]
  },
  {
   "cell_type": "markdown",
   "metadata": {},
   "source": [
    "# Pytorch Logistic Regression Model"
   ]
  },
  {
   "cell_type": "code",
   "execution_count": 4,
   "metadata": {},
   "outputs": [
    {
     "name": "stdout",
     "output_type": "stream",
     "text": [
      "Net(\n",
      "  (fc1): Linear(in_features=8, out_features=512, bias=True)\n",
      "  (fc2): Linear(in_features=512, out_features=512, bias=True)\n",
      "  (fc3): Linear(in_features=512, out_features=2, bias=True)\n",
      "  (dropout): Dropout(p=0.2, inplace=False)\n",
      ")\n"
     ]
    }
   ],
   "source": [
    "#thank you very much https://www.kaggle.com/mburakergenc/ttianic-minimal-pytorch-mlp\n",
    "class Net(nn.Module):\n",
    "    def __init__(self):\n",
    "        super(Net, self).__init__()\n",
    "        self.fc1 = nn.Linear(8, 512)\n",
    "        self.fc2 = nn.Linear(512, 512)\n",
    "        self.fc3 = nn.Linear(512, 2)\n",
    "        self.dropout = nn.Dropout(0.2)\n",
    "        \n",
    "    def forward(self, x):\n",
    "        x = F.relu(self.fc1(x))\n",
    "        x = self.dropout(x)\n",
    "        x = F.relu(self.fc2(x))\n",
    "        x = self.dropout(x)\n",
    "        x = self.fc3(x)\n",
    "        return x\n",
    "model = Net()\n",
    "print(model)"
   ]
  },
  {
   "cell_type": "markdown",
   "metadata": {},
   "source": [
    "# Pytorch Loss Function (Cross Entropy CE)"
   ]
  },
  {
   "cell_type": "code",
   "execution_count": 5,
   "metadata": {},
   "outputs": [],
   "source": [
    "criterion = nn.CrossEntropyLoss()"
   ]
  },
  {
   "cell_type": "markdown",
   "metadata": {},
   "source": [
    "# Pytorch Optimizer (Stochastic Gradient Descent SGD)"
   ]
  },
  {
   "cell_type": "code",
   "execution_count": 6,
   "metadata": {},
   "outputs": [],
   "source": [
    "optimizer = torch.optim.SGD(model.parameters(), lr=0.01)"
   ]
  },
  {
   "cell_type": "markdown",
   "metadata": {},
   "source": [
    "# Pytorch Training"
   ]
  },
  {
   "cell_type": "code",
   "execution_count": 7,
   "metadata": {},
   "outputs": [
    {
     "name": "stdout",
     "output_type": "stream",
     "text": [
      "Validation loss decreased (   inf ===> 0.616603). Saving the model...\n",
      "\n",
      "Epoch: 1 \tTrain Loss: 0.6166032818966576 \tTrain Accuracy: 0.0\n",
      "Validation loss decreased (0.616603 ===> 0.571424). Saving the model...\n",
      "Validation loss decreased (0.571424 ===> 0.538878). Saving the model...\n",
      "Validation loss decreased (0.538878 ===> 0.512581). Saving the model...\n",
      "Validation loss decreased (0.512581 ===> 0.495460). Saving the model...\n",
      "Validation loss decreased (0.495460 ===> 0.479088). Saving the model...\n",
      "Validation loss decreased (0.479088 ===> 0.464704). Saving the model...\n",
      "Validation loss decreased (0.464704 ===> 0.455268). Saving the model...\n",
      "Validation loss decreased (0.455268 ===> 0.445752). Saving the model...\n",
      "Validation loss decreased (0.445752 ===> 0.437919). Saving the model...\n",
      "Validation loss decreased (0.437919 ===> 0.437152). Saving the model...\n",
      "Validation loss decreased (0.437152 ===> 0.433869). Saving the model...\n",
      "Validation loss decreased (0.433869 ===> 0.432503). Saving the model...\n",
      "Validation loss decreased (0.432503 ===> 0.426188). Saving the model...\n",
      "Validation loss decreased (0.426188 ===> 0.414369). Saving the model...\n",
      "Validation loss decreased (0.414369 ===> 0.409566). Saving the model...\n",
      "Validation loss decreased (0.409566 ===> 0.407719). Saving the model...\n",
      "Validation loss decreased (0.407719 ===> 0.406998). Saving the model...\n",
      "Validation loss decreased (0.406998 ===> 0.406966). Saving the model...\n",
      "Validation loss decreased (0.406966 ===> 0.406203). Saving the model...\n",
      "Validation loss decreased (0.406203 ===> 0.405629). Saving the model...\n",
      "Validation loss decreased (0.405629 ===> 0.399179). Saving the model...\n",
      "Validation loss decreased (0.399179 ===> 0.398785). Saving the model...\n",
      "Validation loss decreased (0.398785 ===> 0.396871). Saving the model...\n",
      "Validation loss decreased (0.396871 ===> 0.392471). Saving the model...\n",
      "Validation loss decreased (0.392471 ===> 0.391728). Saving the model...\n",
      "Validation loss decreased (0.391728 ===> 0.390630). Saving the model...\n",
      "Validation loss decreased (0.390630 ===> 0.387723). Saving the model...\n",
      "Validation loss decreased (0.387723 ===> 0.387061). Saving the model...\n",
      "Validation loss decreased (0.387061 ===> 0.384677). Saving the model...\n",
      "Validation loss decreased (0.384677 ===> 0.379343). Saving the model...\n",
      "Validation loss decreased (0.379343 ===> 0.378997). Saving the model...\n",
      "Validation loss decreased (0.378997 ===> 0.376859). Saving the model...\n",
      "Validation loss decreased (0.376859 ===> 0.374001). Saving the model...\n",
      "Validation loss decreased (0.374001 ===> 0.372445). Saving the model...\n",
      "Validation loss decreased (0.372445 ===> 0.368568). Saving the model...\n",
      "Validation loss decreased (0.368568 ===> 0.365310). Saving the model...\n",
      "Validation loss decreased (0.365310 ===> 0.365023). Saving the model...\n",
      "Validation loss decreased (0.365023 ===> 0.362328). Saving the model...\n",
      "Validation loss decreased (0.362328 ===> 0.359907). Saving the model...\n",
      "\n",
      "Epoch: 201 \tTrain Loss: 0.37209336986307445 \tTrain Accuracy: 0.0\n",
      "Validation loss decreased (0.359907 ===> 0.356542). Saving the model...\n",
      "Validation loss decreased (0.356542 ===> 0.355460). Saving the model...\n",
      "Validation loss decreased (0.355460 ===> 0.354371). Saving the model...\n",
      "Validation loss decreased (0.354371 ===> 0.353096). Saving the model...\n",
      "Validation loss decreased (0.353096 ===> 0.351895). Saving the model...\n",
      "Validation loss decreased (0.351895 ===> 0.350018). Saving the model...\n",
      "Validation loss decreased (0.350018 ===> 0.345789). Saving the model...\n",
      "Validation loss decreased (0.345789 ===> 0.343766). Saving the model...\n",
      "Validation loss decreased (0.343766 ===> 0.336433). Saving the model...\n",
      "\n",
      "Epoch: 401 \tTrain Loss: 0.3547521058789884 \tTrain Accuracy: 0.0\n",
      "Training Ended! \n"
     ]
    }
   ],
   "source": [
    "#thank you very much https://www.kaggle.com/mburakergenc/ttianic-minimal-pytorch-mlp\n",
    "\n",
    "batch_size = 64\n",
    "n_epochs = 500\n",
    "batch_no = len(X_train) // batch_size\n",
    "\n",
    "train_loss = 0\n",
    "train_loss_min = np.Inf\n",
    "for epoch in range(n_epochs):\n",
    "    for i in range(batch_no):\n",
    "        start = i*batch_size\n",
    "        end = start+batch_size\n",
    "        x_var = Variable(torch.FloatTensor(X_train[start:end]))\n",
    "        y_var = Variable(torch.LongTensor(y_train[start:end])) \n",
    "        \n",
    "        optimizer.zero_grad()\n",
    "        output = model(x_var)\n",
    "        loss = criterion(output,y_var)\n",
    "        loss.backward()\n",
    "        optimizer.step()\n",
    "        \n",
    "        values, labels = torch.max(output, 1)\n",
    "        num_right = np.sum(labels.data.numpy() == y_train[start:end])\n",
    "        train_loss += loss.item()*batch_size\n",
    "    \n",
    "    train_loss = train_loss / len(X_train)\n",
    "    if train_loss <= train_loss_min:\n",
    "        print(\"Validation loss decreased ({:6f} ===> {:6f}). Saving the model...\".format(train_loss_min,train_loss))\n",
    "        torch.save(model.state_dict(), \"model.pt\")\n",
    "        train_loss_min = train_loss\n",
    "    \n",
    "    if epoch % 200 == 0:\n",
    "        print('')\n",
    "        print(\"Epoch: {} \\tTrain Loss: {} \\tTrain Accuracy: {}\".format(epoch+1, train_loss,num_right / len(y_train[start:end]) ))\n",
    "print('Training Ended! ')"
   ]
  },
  {
   "cell_type": "markdown",
   "metadata": {},
   "source": [
    "# predictions"
   ]
  },
  {
   "cell_type": "code",
   "execution_count": 8,
   "metadata": {},
   "outputs": [],
   "source": [
    "X_test = df_test.iloc[:,1:].values\n",
    "X_test_var = Variable(torch.FloatTensor(X_test), requires_grad=False) \n",
    "with torch.no_grad():\n",
    "    test_result = model(X_test_var)\n",
    "values, labels = torch.max(test_result, 1)\n",
    "survived = labels.data.numpy()"
   ]
  },
  {
   "cell_type": "markdown",
   "metadata": {},
   "source": [
    "# submission"
   ]
  },
  {
   "cell_type": "code",
   "execution_count": 9,
   "metadata": {},
   "outputs": [],
   "source": [
    "submission = pd.DataFrame({'PassengerId': df_sub['PassengerId'], 'Survived': survived})\n",
    "submission.to_csv('submission.csv', index=False)"
   ]
  },
  {
   "cell_type": "markdown",
   "metadata": {},
   "source": [
    "I have found 3 nice courses online, checked them out and they are really nice!\n",
    "\n",
    "- https://www.udemy.com/course/pytorch-for-deep-learning-with-python-bootcamp/?ranMID=39197&ranEAID=vedj0cWlu2Y&ranSiteID=vedj0cWlu2Y-FiBKCfRWMo8DOXuV0uYFLg&LSNPUBID=vedj0cWlu2Y\n",
    "\n",
    "- https://www.coursera.org/learn/deep-neural-networks-with-pytorch?ranMID=40328&ranEAID=vedj0cWlu2Y&ranSiteID=vedj0cWlu2Y-TFDEo8s4j9f2CxC59L3_8w&siteID=vedj0cWlu2Y-TFDEo8s4j9f2CxC59L3_8w&utm_content=10&utm_medium=partners&utm_source=linkshare&utm_campaign=vedj0cWlu2Y\n",
    "\n",
    "- https://www.udacity.com/course/deep-learning-pytorch--ud188?cjevent=becd1b75759d11ea83f301a10a24060d\n",
    "(this one's free)"
   ]
  },
  {
   "cell_type": "markdown",
   "metadata": {},
   "source": [
    "## thank you!\n",
    "## I'll try to add more info and make it better asap"
   ]
  }
 ],
 "metadata": {
  "kernelspec": {
   "display_name": "Python 3",
   "language": "python",
   "name": "python3"
  },
  "language_info": {
   "codemirror_mode": {
    "name": "ipython",
    "version": 3
   },
   "file_extension": ".py",
   "mimetype": "text/x-python",
   "name": "python",
   "nbconvert_exporter": "python",
   "pygments_lexer": "ipython3",
   "version": "3.6.9"
  }
 },
 "nbformat": 4,
 "nbformat_minor": 4
}
